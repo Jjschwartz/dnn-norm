{
 "cells": [
  {
   "cell_type": "markdown",
   "id": "be603ea5",
   "metadata": {},
   "source": [
    "# Normalization experiments"
   ]
  },
  {
   "cell_type": "code",
   "execution_count": null,
   "id": "c0e6ffe0",
   "metadata": {},
   "outputs": [],
   "source": [
    "from dataclasses import dataclass\n",
    "\n",
    "import matplotlib.pyplot as plt\n",
    "import pandas as pd\n",
    "import seaborn as sns\n",
    "import torch\n",
    "import torch.nn as nn\n"
   ]
  },
  {
   "cell_type": "code",
   "execution_count": null,
   "id": "cf2f003a",
   "metadata": {},
   "outputs": [],
   "source": [
    "class DeepMLP(nn.Module):\n",
    "    def __init__(self, width: int, depth: int, norm: str = \"none\"):\n",
    "        super().__init__()\n",
    "        layers: list[nn.Module] = []\n",
    "        for i in range(depth):\n",
    "            if norm == \"none\":\n",
    "                layers.append(nn.Identity())\n",
    "            elif norm == \"layer\":\n",
    "                layers.append(nn.LayerNorm(width))\n",
    "            elif norm == \"batch\":\n",
    "                layers.append(nn.BatchNorm1d(width))\n",
    "            layers.append(nn.Linear(width, width, bias=False))\n",
    "            layers.append(nn.Sigmoid())\n",
    "        self.layers = nn.ModuleList(layers)\n",
    "\n",
    "    def forward(self, x):\n",
    "        h = x\n",
    "        for lin in self.layers:\n",
    "            h = lin(h)\n",
    "        return h"
   ]
  },
  {
   "cell_type": "code",
   "execution_count": null,
   "id": "b8ae09a0",
   "metadata": {},
   "outputs": [],
   "source": [
    "@dataclass\n",
    "class Result:\n",
    "    norm: str\n",
    "    run: int\n",
    "    epoch: int\n",
    "    depth: int\n",
    "    g_input: float\n",
    "    g_first_layer: float\n",
    "    g_last_layer: float\n",
    "    g_max: float\n",
    "    loss: float\n",
    "\n",
    "\n",
    "def run_scenario(\n",
    "    norm: str,\n",
    "    depths: list[int],\n",
    "    n_runs: int = 10,\n",
    "    n_epochs: int = 100,\n",
    "    width: int = 128,\n",
    "    batch: int = 256,\n",
    "    seed: int = 0,\n",
    ") -> list[Result]:\n",
    "    if torch.cuda.is_available():\n",
    "        device = \"cuda\"\n",
    "    elif torch.backends.mps.is_available():\n",
    "        device = \"mps\"\n",
    "    else:\n",
    "        device = \"cpu\"\n",
    "\n",
    "    print(f\"\\n=== {norm} ===\")\n",
    "    torch.manual_seed(seed)\n",
    "    results = []\n",
    "    x_all_runs = torch.randn(n_runs, batch, width, device=device)\n",
    "\n",
    "    for depth in depths:\n",
    "        for run in range(n_runs):\n",
    "            net = DeepMLP(width, depth, norm=norm)\n",
    "            net.to(device)\n",
    "\n",
    "            optimizer = torch.optim.Adam(net.parameters(), lr=0.001)\n",
    "\n",
    "            x = x_all_runs[run].clone().requires_grad_(True)\n",
    "\n",
    "            for epoch in range(n_epochs):\n",
    "                y = net(x)\n",
    "                # Loss is the squared difference between the output and the input\n",
    "                loss = ((y - x) ** 2).sum()\n",
    "                optimizer.zero_grad()\n",
    "                loss.backward()\n",
    "\n",
    "                if x.grad is None:\n",
    "                    raise ValueError(\"x.grad is None\")\n",
    "\n",
    "                gin = x.grad.norm().item()\n",
    "                grads = [\n",
    "                    lin.weight.grad.detach().norm().item()\n",
    "                    for lin in net.layers\n",
    "                    if isinstance(lin, nn.Linear)\n",
    "                ]\n",
    "                results.append(\n",
    "                    Result(\n",
    "                        norm=norm,\n",
    "                        run=run,\n",
    "                        depth=depth,\n",
    "                        epoch=epoch,\n",
    "                        g_input=gin,\n",
    "                        g_last_layer=grads[-1],\n",
    "                        g_first_layer=grads[0],\n",
    "                        g_max=max(grads),\n",
    "                        loss=loss.item(),\n",
    "                    )\n",
    "                )\n",
    "                optimizer.step()\n",
    "\n",
    "            print(f\"{norm} - {depth=} - {run=} done.\")\n",
    "    return results"
   ]
  },
  {
   "cell_type": "code",
   "execution_count": null,
   "id": "15c67915",
   "metadata": {},
   "outputs": [],
   "source": [
    "depths = [2, 4, 8, 16, 32, 64, 128]\n",
    "\n",
    "all_results = []\n",
    "results = run_scenario(norm=\"none\", depths=depths, n_epochs=10)\n",
    "all_results.extend(results)\n",
    "\n",
    "results = run_scenario(norm=\"layer\", depths=depths, n_epochs=10)\n",
    "all_results.extend(results)\n",
    "\n",
    "results = run_scenario(norm=\"batch\", depths=depths, n_epochs=10)\n",
    "all_results.extend(results)\n",
    "\n",
    "# convert into a pandas dataframe"
   ]
  },
  {
   "cell_type": "code",
   "execution_count": null,
   "id": "983d9508",
   "metadata": {},
   "outputs": [],
   "source": [
    "# convert into a pandas dataframe\n",
    "df = pd.DataFrame(all_results)\n",
    "df"
   ]
  },
  {
   "cell_type": "code",
   "execution_count": null,
   "id": "2a00032f",
   "metadata": {},
   "outputs": [],
   "source": [
    "df_last_epoch = df[df[\"epoch\"] == df[\"epoch\"].max()]\n",
    "df_last_epoch"
   ]
  },
  {
   "cell_type": "code",
   "execution_count": null,
   "id": "8e3f3ee2",
   "metadata": {},
   "outputs": [],
   "source": [
    "hue = \"depth\"\n",
    "hue_order = df[hue].unique()\n",
    "hue_order.sort()\n",
    "print(hue_order)\n",
    "\n",
    "palette = sns.color_palette(\"flare\", n_colors=len(hue_order))"
   ]
  },
  {
   "cell_type": "code",
   "execution_count": null,
   "id": "a6ffa315",
   "metadata": {},
   "outputs": [],
   "source": [
    "sns.relplot(\n",
    "    kind=\"line\",\n",
    "    x=\"epoch\",\n",
    "    y=\"loss\",\n",
    "    data=df,\n",
    "    col=\"norm\",\n",
    "    hue=\"depth\",\n",
    "    palette=palette,\n",
    ")\n",
    "plt.yscale(\"log\")"
   ]
  },
  {
   "cell_type": "code",
   "execution_count": null,
   "id": "d49e0a08",
   "metadata": {},
   "outputs": [],
   "source": [
    "# plot the results in same figure using seaborn\n",
    "sns.relplot(\n",
    "    kind=\"line\",\n",
    "    x=\"epoch\",\n",
    "    y=\"g_input\",\n",
    "    data=df,\n",
    "    hue=\"depth\",\n",
    "    col=\"norm\",\n",
    "    palette=palette,\n",
    ")\n",
    "plt.yscale(\"log\")\n"
   ]
  },
  {
   "cell_type": "code",
   "execution_count": null,
   "id": "aa34670d",
   "metadata": {},
   "outputs": [],
   "source": [
    "# plot the results in same figure using seaborn\n",
    "sns.lineplot(x=\"depth\", y=\"g_input\", data=df_last_epoch, hue=\"norm\")\n",
    "plt.yscale(\"log\")"
   ]
  },
  {
   "cell_type": "code",
   "execution_count": null,
   "id": "7b12a18e",
   "metadata": {},
   "outputs": [],
   "source": [
    "sns.relplot(\n",
    "    kind=\"line\",\n",
    "    x=\"epoch\",\n",
    "    y=\"g_first_layer\",\n",
    "    data=df,\n",
    "    hue=\"depth\",\n",
    "    palette=palette,\n",
    "    col=\"norm\",\n",
    ")\n",
    "plt.yscale(\"log\")"
   ]
  },
  {
   "cell_type": "code",
   "execution_count": null,
   "id": "643f1144",
   "metadata": {},
   "outputs": [],
   "source": [
    "sns.lineplot(x=\"depth\", y=\"g_first_layer\", data=df_last_epoch, hue=\"norm\")"
   ]
  },
  {
   "cell_type": "code",
   "execution_count": null,
   "id": "adb59290",
   "metadata": {},
   "outputs": [],
   "source": [
    "sns.relplot(\n",
    "    kind=\"line\",\n",
    "    x=\"epoch\",\n",
    "    y=\"g_last_layer\",\n",
    "    data=df,\n",
    "    hue=\"depth\",\n",
    "    palette=palette,\n",
    "    col=\"norm\",\n",
    ")\n",
    "plt.yscale(\"log\")"
   ]
  },
  {
   "cell_type": "code",
   "execution_count": null,
   "id": "a94fbe5d",
   "metadata": {},
   "outputs": [],
   "source": [
    "sns.relplot(\n",
    "    kind=\"line\",\n",
    "    x=\"epoch\",\n",
    "    y=\"g_max\",\n",
    "    data=df,\n",
    "    hue=\"depth\",\n",
    "    palette=palette,\n",
    "    col=\"norm\",\n",
    ")\n",
    "plt.yscale(\"log\")"
   ]
  },
  {
   "cell_type": "code",
   "execution_count": null,
   "id": "1447dcbc",
   "metadata": {},
   "outputs": [],
   "source": [
    "sns.lineplot(x=\"depth\", y=\"g_max\", data=df_last_epoch, hue=\"norm\")"
   ]
  }
 ],
 "metadata": {
  "kernelspec": {
   "display_name": ".venv",
   "language": "python",
   "name": "python3"
  },
  "language_info": {
   "codemirror_mode": {
    "name": "ipython",
    "version": 3
   },
   "file_extension": ".py",
   "mimetype": "text/x-python",
   "name": "python",
   "nbconvert_exporter": "python",
   "pygments_lexer": "ipython3",
   "version": "3.11.11"
  }
 },
 "nbformat": 4,
 "nbformat_minor": 5
}
